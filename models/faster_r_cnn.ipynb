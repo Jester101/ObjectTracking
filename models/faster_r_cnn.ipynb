{
 "cells": [
  {
   "cell_type": "markdown",
   "metadata": {
    "pycharm": {
     "name": "#%% md\n"
    }
   },
   "source": [
    "# FASTER R-CNN\n"
   ]
  },
  {
   "cell_type": "code",
   "execution_count": 1,
   "metadata": {
    "pycharm": {
     "name": "#%%\n"
    }
   },
   "outputs": [],
   "source": [
    "# Configuration and dependencies\n",
    "from tensorflow.keras.preprocessing.image import img_to_array\n",
    "from tensorflow.keras.preprocessing.image import load_img\n",
    "from tensorflow.keras.applications import VGG16\n",
    "from tensorflow.keras.layers import Flatten\n",
    "from tensorflow.keras.layers import Dropout\n",
    "from tensorflow.keras.layers import Dense\n",
    "from tensorflow.keras.layers import Input\n",
    "from tensorflow.keras.models import Model\n",
    "from tensorflow.keras.optimizers import Adam\n",
    "from tensorflow.keras.utils import to_categorical\n",
    "import imutils.paths as path\n",
    "import matplotlib.pyplot as plt\n",
    "import numpy as np\n",
    "import pandas as pd\n",
    "import cv2\n",
    "import os\n",
    "\n",
    "class DatasetHelper:\n",
    "\n",
    "    TEST = 'test'\n",
    "    TRAIN = 'train'\n",
    "    MOT16_TEST = 'MOT16-03'\n",
    "    MOT16_TRAIN = 'MOT16-04'\n",
    "    IMAGE = 'img1'\n",
    "    BOUNDARY_BOXES = 'det\\\\det.txt'\n",
    "\n",
    "    def __init__(self, path: str):\n",
    "        self.path = path\n",
    "        self.IMAGE_TEST_PATH = ''\n",
    "        self.IMAGE_TRAIN_PATH = ''\n",
    "        self.BOUNDARY_BOXES_TEST_PATH = ''\n",
    "        self.BOUNDARY_TRAIN_BOXES_PATH = ''\n",
    "\n",
    "    def configure(self):\n",
    "        self.IMAGE_TEST_PATH = os.path.join(self.path, self.TEST, self.MOT16_TEST, self.IMAGE)\n",
    "        self.IMAGE_TRAIN_PATH = os.path.join(self.path, self.TRAIN, self.MOT16_TRAIN, self.IMAGE)\n",
    "        self.BOUNDARY_BOXES_TEST_PATH = os.path.join(self.path, self.TEST, self.MOT16_TEST, self.BOUNDARY_BOXES)\n",
    "        self.BOUNDARY_TRAIN_BOXES_PATH = os.path.join(self.path, self.TRAIN, self.MOT16_TRAIN, self.BOUNDARY_BOXES)\n",
    "        train = np.transpose(self.load_data(self.IMAGE_TRAIN_PATH, self.BOUNDARY_TRAIN_BOXES_PATH, 10))\n",
    "        test = np.transpose(self.load_data(self.IMAGE_TEST_PATH, self.BOUNDARY_BOXES_TEST_PATH, 30))\n",
    "        return train, test\n",
    "\n",
    "    def load_data(self, image_path: str, boxes_path: str, part:int):\n",
    "        boxes = []\n",
    "        output = []\n",
    "        rows = open(boxes_path).read().strip().split('\\n')\n",
    "        for row in rows:\n",
    "            row = row.split(',')\n",
    "            frame = int(row[0])\n",
    "            startX = float(row[2])\n",
    "            startY = float(row[3])\n",
    "            endX = startX + float(row[4])\n",
    "            endY = startY + float(row[5])\n",
    "            boxes.append([frame, id, startY, startY, endX, endY])\n",
    "        all_images = [os.path.join(image_path, f) for f in os.listdir(image_path) if os.path.isfile(os.path.join(image_path, f))]\n",
    "        img_index = 0\n",
    "        while img_index < len(all_images) / part:\n",
    "            image = cv2.imread(all_images[img_index])\n",
    "            (h, w) = image.shape[:2]\n",
    "            image_boxes = [box for box in boxes if box[0] == img_index + 1] \n",
    "            # scale the bounding box coordinates relative to the spatial\n",
    "            map(lambda x: (x[0], x[1], x[2] / w, x[3] / h, x[4] / w, x[5] / h), image_boxes)\n",
    "            image = load_img(all_images[img_index], target_size=(244, 244))\n",
    "            image = img_to_array(image) / 255.0\n",
    "            for box in image_boxes:\n",
    "                output.append((image, np.array([box[2], box[3], box[4], box[5]], dtype=\"float32\")))\n",
    "            img_index += 1\n",
    "        return np.array(output, dtype=object)"
   ]
  },
  {
   "cell_type": "code",
   "execution_count": 2,
   "metadata": {
    "pycharm": {
     "name": "#%%\n"
    }
   },
   "outputs": [],
   "source": [
    "# model path configuration\n",
    "MODEL_PATH = \"detector.h5\"\n",
    "LB_PATH = \"lb.pickle\"\n",
    "PLOTS_PATH = \"plots\"\n",
    "\n",
    "#base ML params configuration\n",
    "INIT_LR = 1e-4\n",
    "NUM_EPOCHS = 20\n",
    "BATCH_SIZE = 32\n"
   ]
  },
  {
   "cell_type": "code",
   "execution_count": 3,
   "metadata": {
    "pycharm": {
     "name": "#%%\n"
    },
    "scrolled": true
   },
   "outputs": [],
   "source": [
    "#model creation\n",
    "model = VGG16(weights=\"imagenet\", include_top=False, input_tensor=Input(shape=(244, 244, 3)))\n",
    "model.trainable = False\n",
    "flatten = model.output\n",
    "flatten = Flatten() (flatten)"
   ]
  },
  {
   "cell_type": "code",
   "execution_count": 4,
   "metadata": {
    "pycharm": {
     "name": "#%%\n"
    },
    "scrolled": true
   },
   "outputs": [
    {
     "name": "stdout",
     "output_type": "stream",
     "text": [
      "Model: \"model\"\n",
      "_________________________________________________________________\n",
      "Layer (type)                 Output Shape              Param #   \n",
      "=================================================================\n",
      "input_1 (InputLayer)         [(None, 244, 244, 3)]     0         \n",
      "_________________________________________________________________\n",
      "block1_conv1 (Conv2D)        (None, 244, 244, 64)      1792      \n",
      "_________________________________________________________________\n",
      "block1_conv2 (Conv2D)        (None, 244, 244, 64)      36928     \n",
      "_________________________________________________________________\n",
      "block1_pool (MaxPooling2D)   (None, 122, 122, 64)      0         \n",
      "_________________________________________________________________\n",
      "block2_conv1 (Conv2D)        (None, 122, 122, 128)     73856     \n",
      "_________________________________________________________________\n",
      "block2_conv2 (Conv2D)        (None, 122, 122, 128)     147584    \n",
      "_________________________________________________________________\n",
      "block2_pool (MaxPooling2D)   (None, 61, 61, 128)       0         \n",
      "_________________________________________________________________\n",
      "block3_conv1 (Conv2D)        (None, 61, 61, 256)       295168    \n",
      "_________________________________________________________________\n",
      "block3_conv2 (Conv2D)        (None, 61, 61, 256)       590080    \n",
      "_________________________________________________________________\n",
      "block3_conv3 (Conv2D)        (None, 61, 61, 256)       590080    \n",
      "_________________________________________________________________\n",
      "block3_pool (MaxPooling2D)   (None, 30, 30, 256)       0         \n",
      "_________________________________________________________________\n",
      "block4_conv1 (Conv2D)        (None, 30, 30, 512)       1180160   \n",
      "_________________________________________________________________\n",
      "block4_conv2 (Conv2D)        (None, 30, 30, 512)       2359808   \n",
      "_________________________________________________________________\n",
      "block4_conv3 (Conv2D)        (None, 30, 30, 512)       2359808   \n",
      "_________________________________________________________________\n",
      "block4_pool (MaxPooling2D)   (None, 15, 15, 512)       0         \n",
      "_________________________________________________________________\n",
      "block5_conv1 (Conv2D)        (None, 15, 15, 512)       2359808   \n",
      "_________________________________________________________________\n",
      "block5_conv2 (Conv2D)        (None, 15, 15, 512)       2359808   \n",
      "_________________________________________________________________\n",
      "block5_conv3 (Conv2D)        (None, 15, 15, 512)       2359808   \n",
      "_________________________________________________________________\n",
      "block5_pool (MaxPooling2D)   (None, 7, 7, 512)         0         \n",
      "_________________________________________________________________\n",
      "flatten (Flatten)            (None, 25088)             0         \n",
      "_________________________________________________________________\n",
      "dense (Dense)                (None, 128)               3211392   \n",
      "_________________________________________________________________\n",
      "dense_1 (Dense)              (None, 64)                8256      \n",
      "_________________________________________________________________\n",
      "dense_2 (Dense)              (None, 32)                2080      \n",
      "_________________________________________________________________\n",
      "bounding_box (Dense)         (None, 4)                 132       \n",
      "=================================================================\n",
      "Total params: 17,936,548\n",
      "Trainable params: 3,221,860\n",
      "Non-trainable params: 14,714,688\n",
      "_________________________________________________________________\n",
      "None\n"
     ]
    }
   ],
   "source": [
    "# constructing new layer head for multi-class object detection\n",
    "bboxHead = Dense(128, activation=\"relu\") (flatten)\n",
    "bboxHead = Dense(64, activation=\"relu\") (bboxHead)\n",
    "bboxHead = Dense(32, activation=\"relu\") (bboxHead)\n",
    "bboxHead = Dense(4, activation=\"sigmoid\", name=\"bounding_box\") (bboxHead)\n",
    "\n",
    "softmaxHead = Dense(512, activation=\"relu\") (flatten)\n",
    "softmaxHead = Dropout(0.5) (softmaxHead)\n",
    "softmaxHead = Dense(512, activation=\"relu\") (softmaxHead)\n",
    "softmaxHead = Dropout(0.5) (softmaxHead)\n",
    "softmaxHead = Dense(1, activation=\"softmax\", name=\"class_label\") (softmaxHead)\n",
    "model = Model(\n",
    "\tinputs=model.input,\n",
    "\toutputs=bboxHead)\n",
    "losses = {\n",
    "    \"bounding_box\": \"mean_squared_error\"\n",
    "}\n",
    "\n",
    "lossWeights = {\n",
    "    \"bounding_box\": 1.0\n",
    "}\n",
    "opt = Adam(learning_rate=INIT_LR)\n",
    "model.compile(loss=losses, optimizer=opt, metrics=[\"accuracy\"], loss_weights=lossWeights)\n",
    "print(model.summary())"
   ]
  },
  {
   "cell_type": "code",
   "execution_count": 5,
   "metadata": {
    "pycharm": {
     "is_executing": true,
     "name": "#%%\n"
    }
   },
   "outputs": [
    {
     "name": "stdout",
     "output_type": "stream",
     "text": [
      "(2, 3994)\n"
     ]
    }
   ],
   "source": [
    "#Extract images\n",
    "helper = DatasetHelper(os.path.join(os.path.abspath(''), os.pardir, \"dataset\"))\n",
    "train, test = helper.configure()\n",
    "print(train.shape)"
   ]
  },
  {
   "cell_type": "code",
   "execution_count": 11,
   "metadata": {},
   "outputs": [],
   "source": [
    "trainImages = np.array([np.asarray(i).astype(np.float16) for i in train[0]]) \n",
    "testImages = np.array([np.asarray(i).astype(np.float16) for i in test[0]]) \n",
    "trainBoxes = train[1]\n",
    "testBoxes = test[1]"
   ]
  },
  {
   "cell_type": "code",
   "execution_count": 14,
   "metadata": {},
   "outputs": [
    {
     "name": "stdout",
     "output_type": "stream",
     "text": [
      "[name: \"/device:CPU:0\"\n",
      "device_type: \"CPU\"\n",
      "memory_limit: 268435456\n",
      "locality {\n",
      "}\n",
      "incarnation: 7636452204311076641\n",
      ", name: \"/device:GPU:0\"\n",
      "device_type: \"GPU\"\n",
      "memory_limit: 10087235584\n",
      "locality {\n",
      "  bus_id: 1\n",
      "  links {\n",
      "  }\n",
      "}\n",
      "incarnation: 7418447069327257812\n",
      "physical_device_desc: \"device: 0, name: NVIDIA GeForce RTX 3060, pci bus id: 0000:01:00.0, compute capability: 8.6\"\n",
      "]\n",
      "Python 3.9.12\n"
     ]
    },
    {
     "data": {
      "text/plain": [
       "'/device:GPU:0'"
      ]
     },
     "execution_count": 14,
     "metadata": {},
     "output_type": "execute_result"
    }
   ],
   "source": [
    "import tensorflow as tf\n",
    "from tensorflow.python.client import device_lib\n",
    "print(device_lib.list_local_devices())\n",
    "!python --version\n",
    "tf.test.gpu_device_name()"
   ]
  },
  {
   "cell_type": "code",
   "execution_count": 12,
   "metadata": {
    "scrolled": true
   },
   "outputs": [
    {
     "name": "stdout",
     "output_type": "stream",
     "text": [
      "Epoch 1/20\n",
      "125/125 [==============================] - 549s 4s/step - loss: 385620.1562 - accuracy: 0.7516 - val_loss: 535363.8125 - val_accuracy: 0.8448\n",
      "Epoch 2/20\n",
      "125/125 [==============================] - 526s 4s/step - loss: 385586.1562 - accuracy: 0.7606 - val_loss: 535362.0000 - val_accuracy: 0.8448\n",
      "Epoch 3/20\n",
      "125/125 [==============================] - 529s 4s/step - loss: 385585.8438 - accuracy: 0.7606 - val_loss: 535361.5000 - val_accuracy: 0.8448\n",
      "Epoch 4/20\n",
      "125/125 [==============================] - 525s 4s/step - loss: 385585.5938 - accuracy: 0.7606 - val_loss: 535361.3125 - val_accuracy: 0.8448\n",
      "Epoch 5/20\n",
      "125/125 [==============================] - 528s 4s/step - loss: 385585.4375 - accuracy: 0.7606 - val_loss: 535361.2500 - val_accuracy: 0.8448\n",
      "Epoch 6/20\n",
      "125/125 [==============================] - 527s 4s/step - loss: 385585.5000 - accuracy: 0.7606 - val_loss: 535361.2500 - val_accuracy: 0.8448\n",
      "Epoch 7/20\n",
      "125/125 [==============================] - 526s 4s/step - loss: 385585.4062 - accuracy: 0.7606 - val_loss: 535361.1250 - val_accuracy: 0.8448\n",
      "Epoch 8/20\n",
      "125/125 [==============================] - 528s 4s/step - loss: 385585.5000 - accuracy: 0.7606 - val_loss: 535361.1250 - val_accuracy: 0.8448\n",
      "Epoch 9/20\n",
      "125/125 [==============================] - 526s 4s/step - loss: 385585.2812 - accuracy: 0.7606 - val_loss: 535361.1250 - val_accuracy: 0.8448\n",
      "Epoch 10/20\n",
      "125/125 [==============================] - 528s 4s/step - loss: 385585.4688 - accuracy: 0.7606 - val_loss: 535361.1250 - val_accuracy: 0.8448\n",
      "Epoch 11/20\n",
      "125/125 [==============================] - 526s 4s/step - loss: 385585.3125 - accuracy: 0.7606 - val_loss: 535361.1250 - val_accuracy: 0.8448\n",
      "Epoch 12/20\n",
      "125/125 [==============================] - 525s 4s/step - loss: 385585.4062 - accuracy: 0.7606 - val_loss: 535361.1250 - val_accuracy: 0.8448\n",
      "Epoch 13/20\n",
      "125/125 [==============================] - 523s 4s/step - loss: 385585.2500 - accuracy: 0.7606 - val_loss: 535361.0625 - val_accuracy: 0.8448\n",
      "Epoch 14/20\n",
      "125/125 [==============================] - 527s 4s/step - loss: 385585.4375 - accuracy: 0.7606 - val_loss: 535361.0625 - val_accuracy: 0.8448\n",
      "Epoch 15/20\n",
      "125/125 [==============================] - 529s 4s/step - loss: 385585.4062 - accuracy: 0.7606 - val_loss: 535361.0625 - val_accuracy: 0.8448\n",
      "Epoch 16/20\n",
      "125/125 [==============================] - 531s 4s/step - loss: 385585.3750 - accuracy: 0.7606 - val_loss: 535361.0625 - val_accuracy: 0.8448\n",
      "Epoch 17/20\n",
      "125/125 [==============================] - 529s 4s/step - loss: 385585.2812 - accuracy: 0.7606 - val_loss: 535361.0625 - val_accuracy: 0.8448\n",
      "Epoch 18/20\n",
      "125/125 [==============================] - 531s 4s/step - loss: 385585.4375 - accuracy: 0.7606 - val_loss: 535361.0625 - val_accuracy: 0.8448\n",
      "Epoch 19/20\n",
      "125/125 [==============================] - 546s 4s/step - loss: 385585.4062 - accuracy: 0.7606 - val_loss: 535361.0625 - val_accuracy: 0.8448\n",
      "Epoch 20/20\n",
      "125/125 [==============================] - 587s 5s/step - loss: 385585.3438 - accuracy: 0.7606 - val_loss: 535361.0625 - val_accuracy: 0.8448\n",
      "saving model\n"
     ]
    }
   ],
   "source": [
    "y = np.array([np.asarray(i).astype(np.float32) for i in trainBoxes]) \n",
    "testY = np.array([np.asarray(i).astype(np.float32) for i in testBoxes]) \n",
    "\n",
    "trainTargets = {\n",
    "\t\"class_label\": 0,\n",
    "\t\"bounding_box\": y\n",
    "}\n",
    "# construct a second dictionary, this one for our target testing\n",
    "# outputs\n",
    "testTargets = {\n",
    "\t\"class_label\": 0,\n",
    "\t\"bounding_box\": testY\n",
    "}\n",
    "\n",
    "H = model.fit(\n",
    "    trainImages, y,\n",
    "    validation_data=(testImages, testY),\n",
    "    batch_size=BATCH_SIZE,\n",
    "    epochs=NUM_EPOCHS,\n",
    "    verbose=1\n",
    ")\n",
    "\n",
    "print(\"saving model\")\n",
    "model.save(MODEL_PATH, save_format=\"h5\")\n"
   ]
  },
  {
   "cell_type": "code",
   "execution_count": 24,
   "metadata": {
    "pycharm": {
     "is_executing": true,
     "name": "#%%\n"
    }
   },
   "outputs": [
    {
     "ename": "KeyError",
     "evalue": "'val_bounding_box_loss'",
     "output_type": "error",
     "traceback": [
      "\u001b[1;31m---------------------------------------------------------------------------\u001b[0m",
      "\u001b[1;31mKeyError\u001b[0m                                  Traceback (most recent call last)",
      "Input \u001b[1;32mIn [24]\u001b[0m, in \u001b[0;36m<cell line: 8>\u001b[1;34m()\u001b[0m\n\u001b[0;32m     12\u001b[0m \tax[i]\u001b[38;5;241m.\u001b[39mset_xlabel(\u001b[38;5;124m\"\u001b[39m\u001b[38;5;124mEpoch #\u001b[39m\u001b[38;5;124m\"\u001b[39m)\n\u001b[0;32m     13\u001b[0m \tax[i]\u001b[38;5;241m.\u001b[39mset_ylabel(\u001b[38;5;124m\"\u001b[39m\u001b[38;5;124mLoss\u001b[39m\u001b[38;5;124m\"\u001b[39m)\n\u001b[1;32m---> 14\u001b[0m \tax[i]\u001b[38;5;241m.\u001b[39mplot(N, \u001b[43mH\u001b[49m\u001b[38;5;241;43m.\u001b[39;49m\u001b[43mhistory\u001b[49m\u001b[43m[\u001b[49m\u001b[38;5;124;43m\"\u001b[39;49m\u001b[38;5;124;43mval_\u001b[39;49m\u001b[38;5;124;43m\"\u001b[39;49m\u001b[43m \u001b[49m\u001b[38;5;241;43m+\u001b[39;49m\u001b[43m \u001b[49m\u001b[43ml\u001b[49m\u001b[43m]\u001b[49m, label\u001b[38;5;241m=\u001b[39m\u001b[38;5;124m\"\u001b[39m\u001b[38;5;124mval_\u001b[39m\u001b[38;5;124m\"\u001b[39m \u001b[38;5;241m+\u001b[39m l)\n\u001b[0;32m     15\u001b[0m \tax[i]\u001b[38;5;241m.\u001b[39mlegend()\n\u001b[0;32m     16\u001b[0m \u001b[38;5;66;03m# save the losses figure and create a new figure for the accuracies\u001b[39;00m\n",
      "\u001b[1;31mKeyError\u001b[0m: 'val_bounding_box_loss'"
     ]
    },
    {
     "data": {
      "image/png": "[encoded data removed]",
      "text/plain": [
       "<Figure size 936x936 with 3 Axes>"
      ]
     },
     "metadata": {},
     "output_type": "display_data"
    }
   ],
   "source": [
    "#result visualization\n",
    "# plot the total loss, label loss, and bounding box loss\n",
    "lossNames = [\"loss\", \"bounding_box_loss\"]\n",
    "N = np.arange(0, NUM_EPOCHS)\n",
    "plt.style.use(\"ggplot\")\n",
    "(fig, ax) = plt.subplots(3, 1, figsize=(13, 13))\n",
    "# loop over the loss names\n",
    "for (i, l) in enumerate(lossNames):\n",
    "\t# plot the loss for both the training and validation data\n",
    "\ttitle = \"Loss for {}\".format(l) if l != \"loss\" else \"Total loss\"\n",
    "\tax[i].set_title(title)\n",
    "\tax[i].set_xlabel(\"Epoch #\")\n",
    "\tax[i].set_ylabel(\"Loss\")\n",
    "\tax[i].plot(N, H.history[\"val_\" + l], label=\"val_\" + l)\n",
    "\tax[i].legend()\n",
    "# save the losses figure and create a new figure for the accuracies\n",
    "plt.tight_layout()\n",
    "plotPath = os.path.sep.join([PLOTS_PATH, \"losses.png\"])\n",
    "plt.savefig(plotPath)\n",
    "plt.close()"
   ]
  },
  {
   "cell_type": "code",
   "execution_count": null,
   "metadata": {},
   "outputs": [],
   "source": []
  }
 ],
 "metadata": {
  "kernelspec": {
   "display_name": "Python 3 (ipykernel)",
   "language": "python",
   "name": "python3"
  },
  "language_info": {
   "codemirror_mode": {
    "name": "ipython",
    "version": 3
   },
   "file_extension": ".py",
   "mimetype": "text/x-python",
   "name": "python",
   "nbconvert_exporter": "python",
   "pygments_lexer": "ipython3",
   "version": "3.9.12"
  }
 },
 "nbformat": 4,
 "nbformat_minor": 1
}
